{
 "cells": [
  {
   "cell_type": "code",
   "execution_count": null,
   "id": "811e4446",
   "metadata": {
    "ExecuteTime": {
     "end_time": "2022-06-30T18:17:10.993102Z",
     "start_time": "2022-06-30T18:17:09.515433Z"
    }
   },
   "outputs": [],
   "source": [
    "import torch\n",
    "import torchvision.transforms as transforms\n",
    "\n",
    "import itertools\n",
    "from pathlib import Path\n",
    "import torch.nn as nn\n",
    "\n",
    "from Girl2animeDataset import Girl2animeDataset\n",
    "from models import Generator,Discriminator,weights_init\n",
    "\n",
    "import torch.backends.cudnn as cudnn\n",
    "cudnn.benchmark = True\n",
    "\n",
    "from train import fit\n",
    "\n",
    "import os\n",
    "os.environ['KMP_DUPLICATE_LIB_OK']='True'\n",
    "device = torch.device('cuda') if torch.cuda.is_available() else torch.device('cpu')"
   ]
  },
  {
   "cell_type": "code",
   "execution_count": null,
   "id": "1d3f533e",
   "metadata": {
    "ExecuteTime": {
     "end_time": "2022-06-30T18:17:11.905718Z",
     "start_time": "2022-06-30T18:17:11.902577Z"
    }
   },
   "outputs": [],
   "source": [
    "root = 'girl2anime'\n",
    "num_workers = 6\n",
    "batch_size = 5\n",
    "epochs = 100\n",
    "lr = 2*1e-4"
   ]
  },
  {
   "cell_type": "code",
   "execution_count": null,
   "id": "8438422a",
   "metadata": {
    "ExecuteTime": {
     "end_time": "2022-06-30T18:17:13.238260Z",
     "start_time": "2022-06-30T18:17:13.183872Z"
    }
   },
   "outputs": [],
   "source": [
    "transform = transforms.Compose([\n",
    "    transforms.RandomHorizontalFlip(),\n",
    "    transforms.ToTensor(),\n",
    "    transforms.Normalize((0.5, 0.5, 0.5), (0.5, 0.5, 0.5))])\n",
    "\n",
    "\n",
    "dataset = Girl2animeDataset(root,transform, mode=\"train\")\n",
    "dataloader = torch.utils.data.DataLoader(dataset, batch_size=batch_size,num_workers =num_workers , shuffle=True, pin_memory=True)"
   ]
  },
  {
   "cell_type": "code",
   "execution_count": null,
   "id": "89e0d135",
   "metadata": {
    "ExecuteTime": {
     "end_time": "2022-06-30T18:17:18.073620Z",
     "start_time": "2022-06-30T18:17:15.212851Z"
    }
   },
   "outputs": [],
   "source": [
    "model = {\n",
    "    \"G_AB\": Generator().to(device),\n",
    "    \"D_A\": Discriminator().to(device),\n",
    "    \"F_BA\": Generator().to(device),\n",
    "    \"D_B\": Discriminator().to(device),\n",
    "}\n",
    "\n",
    "model[\"G_AB\"].apply(weights_init)\n",
    "model[\"D_A\"].apply(weights_init)\n",
    "model[\"F_BA\"].apply(weights_init)\n",
    "model[\"D_B\"].apply(weights_init)\n",
    "None"
   ]
  },
  {
   "cell_type": "code",
   "execution_count": null,
   "id": "9ac79781",
   "metadata": {
    "ExecuteTime": {
     "end_time": "2022-06-30T18:17:19.429437Z",
     "start_time": "2022-06-30T18:17:19.424521Z"
    }
   },
   "outputs": [],
   "source": [
    "optim_G_AB_and_F_BA = torch.optim.Adam(itertools.chain(model[\"G_AB\"].parameters(), model[\"F_BA\"].parameters()), lr=lr, betas=(0.5, 0.999))\n",
    "optim_D_A_and_D_B = torch.optim.Adam(itertools.chain(model[\"D_A\"].parameters(), model[\"D_B\"].parameters()), lr=lr, betas=(0.5, 0.999))\n",
    "\n",
    "optimizer = {\n",
    "        \"G_AB_and_F_BA\": optim_G_AB_and_F_BA,\n",
    "        \"D_A_and_D_B\": optim_D_A_and_D_B\n",
    "    }"
   ]
  },
  {
   "cell_type": "code",
   "execution_count": null,
   "id": "4d113202",
   "metadata": {
    "ExecuteTime": {
     "end_time": "2022-06-30T18:17:20.325389Z",
     "start_time": "2022-06-30T18:17:20.320887Z"
    }
   },
   "outputs": [],
   "source": [
    "# \"We keep the same learning rate for the first 100\n",
    "# epochs and linearly decay the rate to zero over the next 100\n",
    "# epochs.\"\n",
    "def get_lr(epoch):\n",
    "    start_decay_epoch = epochs // 2\n",
    "    if epoch <= start_decay_epoch:\n",
    "        return 1.0\n",
    "    else:\n",
    "        new_lr = (1 - (epoch - start_decay_epoch) / (start_decay_epoch))\n",
    "        return new_lr\n",
    "\n",
    "lr_scheduler_G_AB_and_F_BA = torch.optim.lr_scheduler.LambdaLR(optimizer[\"G_AB_and_F_BA\"], lr_lambda=get_lr)\n",
    "lr_scheduler_D_A_and_D_B = torch.optim.lr_scheduler.LambdaLR(optimizer[\"D_A_and_D_B\"], lr_lambda=get_lr)\n",
    "\n",
    "scheduler = {\n",
    "    \"G_AB_and_F_BA\": lr_scheduler_G_AB_and_F_BA,\n",
    "    \"D_A_and_D_B\": lr_scheduler_D_A_and_D_B\n",
    "}"
   ]
  },
  {
   "cell_type": "code",
   "execution_count": null,
   "id": "1959bcd3",
   "metadata": {
    "ExecuteTime": {
     "end_time": "2022-06-30T18:17:21.882176Z",
     "start_time": "2022-06-30T18:17:21.878767Z"
    }
   },
   "outputs": [],
   "source": [
    "criterion = {\n",
    "    \"MSE\": nn.MSELoss(),\n",
    "    \"L1\": nn.L1Loss()\n",
    "}"
   ]
  },
  {
   "cell_type": "code",
   "execution_count": null,
   "id": "4717ad71",
   "metadata": {
    "ExecuteTime": {
     "end_time": "2022-06-30T18:17:22.607903Z",
     "start_time": "2022-06-30T18:17:22.603243Z"
    }
   },
   "outputs": [],
   "source": [
    "results_path = Path(\"results\")\n",
    "plots_path = Path(\"plots\")\n",
    "weights_path = Path(\"weights\")\n",
    "results_path.mkdir(parents=True, exist_ok=True)\n",
    "plots_path.mkdir(parents=True, exist_ok=True)\n",
    "weights_path.mkdir(parents=True, exist_ok=True)"
   ]
  },
  {
   "cell_type": "code",
   "execution_count": null,
   "id": "1a662874",
   "metadata": {
    "ExecuteTime": {
     "start_time": "2022-06-30T18:17:23.445Z"
    },
    "scrolled": false
   },
   "outputs": [],
   "source": [
    "history = fit(model,optimizer,scheduler,criterion,dataloader,epochs,show_mode=True)"
   ]
  }
 ],
 "metadata": {
  "hide_input": false,
  "kernelspec": {
   "display_name": "Python 3",
   "language": "python",
   "name": "python3"
  },
  "language_info": {
   "codemirror_mode": {
    "name": "ipython",
    "version": 3
   },
   "file_extension": ".py",
   "mimetype": "text/x-python",
   "name": "python",
   "nbconvert_exporter": "python",
   "pygments_lexer": "ipython3",
   "version": "3.8.10"
  },
  "varInspector": {
   "cols": {
    "lenName": 16,
    "lenType": 16,
    "lenVar": 40
   },
   "kernels_config": {
    "python": {
     "delete_cmd_postfix": "",
     "delete_cmd_prefix": "del ",
     "library": "var_list.py",
     "varRefreshCmd": "print(var_dic_list())"
    },
    "r": {
     "delete_cmd_postfix": ") ",
     "delete_cmd_prefix": "rm(",
     "library": "var_list.r",
     "varRefreshCmd": "cat(var_dic_list()) "
    }
   },
   "types_to_exclude": [
    "module",
    "function",
    "builtin_function_or_method",
    "instance",
    "_Feature"
   ],
   "window_display": false
  }
 },
 "nbformat": 4,
 "nbformat_minor": 5
}
